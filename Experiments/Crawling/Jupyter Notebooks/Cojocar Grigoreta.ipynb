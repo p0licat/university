{
 "cells": [
  {
   "cell_type": "markdown",
   "metadata": {},
   "source": [
    "## Manual publication DB insertion from raw text using syntax features\n",
    "### Publications and conferences of COJOCAR Grigoreta, Profesor Universitar\n",
    "#### http://www.cs.ubbcluj.ro/~grigo/"
   ]
  },
  {
   "cell_type": "code",
   "execution_count": 1,
   "metadata": {},
   "outputs": [],
   "source": [
    "text_all = \"\"\"\n",
    "Czibula, G., Cojocar, G.S., Czibula, I.G., Evaluation Measures For Partitioning Based Aspect Mining Techniques, International Journal Of Computers Communications & Control, Vol. 6 No. 1, 2011, pp.72 - 80.\n",
    "Serban, G., Moldovan, G.S, A hierarchical clustering based approach in aspect mining, Computing And Informatics, Vol. 29, No. 6 , 2010, pp.881 - 900\n",
    "Moldovan G.S., Tarta, A. M., Developing an Usability Evaluation Module using AOP, International Journal of Computers Communications & Control, 1, Suppl.S, 2006, pp. 320 - 325\n",
    "Czibula, G., Guran A.M., Czibula I.G., Cojocar G.S., IPA - An Intelligent Personal Assistant Agent For Task Performance Support, in Proceedings of the IEEE 5th International Conference on Intelligent Computer Communication and Processing(ICCP) 2009, Cluj-Napoca, Romania, IEEE Computer Society, pp. 31-34 (ISI proceedings)\n",
    "Czibula, G., Cojocar, G. S., Czibula I.G., A partitional clustering algorithm for crosscutting concerns identification, Proceedings of SEPADS 2009, Cambridge, UK, Wseas Press 978-960-474-052-9, , 2009, pp. 111-116 (ISI proceedings)\n",
    "Czibula, G., Czibula I.G., Cojocar, G. S., Guran A.M., Assisting Software Maintenance and Evolution Using an Agent Based Approach, in Proceedings of Knowledge Engineering: Principles and Techniques(KEPT), Presa Univ. Clujeana, Editor: M. Frentiu, 2067-1180, 2009, pp. 197-204 (ISI proceedings)\n",
    "Cojocar G. S., Cojocar Dan, A Comparison of AOP based Monitoring Tools, in Proceedings of International Conference Knowledge Engineering: Principles and Techniques (KEPT) 2011, STUDIA UNIV. Babes-Bolyai, Informatica, Vol. LVI, No. 3, 2011, pp.65-70\n",
    "Czibula, G., Czibula I.G., Cojocar, G.S. , Guran A. M., Decision support system for software maintenance and evolution, in Proceedings of International Conference Knowledge Engineering: Principles and Techniques (KEPT) 2009, pp.181-184 (ISI proceedings)\n",
    "Czibula, G., Czibula, G.I., Cojocar, G.S., Guran, A.M., IMASC - An Intelligent MultiAgent System for Clinical Decision Support, , in Proceedings of Complexity In Artificial And Natural Systems (CANS) 2008, Targu Mures, IEEE Society Press, 2008, pp. 183-188.\n",
    "Cojocar, G.S.,Guran, A.M., Sanislav, T., Czibula, G., A multiagent based approach for national cancer registry management , in Proceedings of Sixth International Conference on Applied Mathematics (ICAM6), Baia-Mare, Romania, September 18-21, 2008 .\n",
    "Cojocar, G.S., Czibula(Serban), G., On Clustering based Aspect Mining , in Proceedings of the 4th IEEE International Conference on Intelligent Computer Communication and Processing (ICCP), August, 28-30, 2008, Cluj-Napoca, Romania, pp. 129-136.\n",
    "Czibula(Serban), G., Guran, A.M., Cojocar, G.S., Czibula, I.G., Multiagent Decision Support Systems based on Supervised Learning, in 2008 IEEE-TTTC International Conference on Automation, Quality and Testing, Robotics, AQTR 2008, pp.353-358 (ISI proceedings).\n",
    "Serban, G., Cojocar, G.S. A New Hierarchical Agglomerative Clustering Algorithm in Aspect Mining, in Proceedings of the 3rd Balkan Conference in Informatics, 27-29 September 2007, Sofia, Bulgaria, pp. 143-152.\n",
    "Tarta, A.M., Cojocar, G.S. An Agent Based Approach for Pandemic Spread Prediction , in Proceedings of the 3rd Balkan Conference in Informatics, 27-29 September 2007, Sofia, Bulgaria, pp. 433-440.\n",
    "Cojocar, G.S., Serban, G., On Evaluating Aspect Mining Techniques , in Proceedings of the 3rd IEEE International Conference on Intelligent Computer Communication and Processing (ICCP), September, 6-8, 2007, Cluj-Napoca, Romania, pp. 217-224 (ISI proceedings).\n",
    "Serban, G., Cojocar, G.S. A New Graph-Based Approach in Aspect Mining, in Proceedings of Knowledge Engineering: Principles and Techniques (KEPT), Cluj-Napoca, Romania, June, 6-8, 2007, 252-260.\n",
    "Cojocar, G.S., Serban, G., On Some Criteria for Comparing Aspect Mining Techniques , in Proceedings of Linking Aspect Technology and Evolution (LATE) Workshop, co-located with AOSD'07, March, 12, Vancouver, Canada, 2007, ACM Digital Library.\n",
    "Serban, G., Tarta, A., Moldovan, G.S. A Learning Interface Agent for User Behavior Prediction, HCI International 2007, China, LNCS 4552: HCI Intelligent Multimodal Interaction Environments by J. Jacko, ISBN 978-3-540-73108-5, pp. 508-517 (ISI proceedings).\n",
    "Serban, G., Moldovan, G.S. A New Genetic Clustering Based Approach in Aspect Mining, in Proceedings of 8th WSEAS International Conference on Mathematical Methods and Computational Techniques in Electrical Engineering (MMACTEE '06), Bucharest, Romania, October 16-18, 2006, pp. 135-140.\n",
    "Moldovan, G.S., Serban, G., A Formal Model for Clustering Based Aspect Mining , in Proceedings of 8th WSEAS International Conference on Mathematical Methods and Computational Techniques in Electrical Engineering (MMACTEE '06), Bucharest, Romania, October 16-18, 2006, pp. 70-75. Best Student Paper Award.\n",
    "Serban, G., Moldovan, G.S. A new k-means based clustering algorithm in Aspect Mining, in Proceedings of 8th International Symposium on Symbolic and Numeric Algorithms for Scientific Computing (SYNASC'06),Timisoara, Romania, September 26-29, 2006, pp. 69-74, IEEE Computer Society, ISBN 0-7695-2740-X (ISI proceedings).\n",
    "Tarta, A.M., Moldovan, G.S., Serban, G., An Agent Based User Interface Evaluation Using Aspect Oriented Programming , in Proceedings of Fifth International Conference on Applied Mathematics (ICAM5), Baia-Mare, Romania, September 21-24, 2006 (abstract).\n",
    "Moldovan, G.S., Tarta, A.M., A Comparison of Using AOP and Java Accessibility for Usability Evaluation , in CD Proceedings of 4th European Conference on Intelligent Systems and Technologies (ECIT), Iasi, Romania, September 21-23, 2006, ISBN (10): 973-730-246-X, ISBN (13): 978-973-730-246-5.\n",
    "Moldovan, G.S., Serban, G., Quality Measures for Clustering Based Aspect Mining Techniques , in Proceedings of Towards Evaluation of Aspect Mining (TEAM) Workshop, ECOOP 2006, Nantes, France, pp. 13-16.\n",
    "Tarta, A.M., Moldovan, G.S., Automatic Usability Evaluation using AOP , in Proccedings of IEEE-TTTC International Conference on Automation, Quality and Testing, Robotics AQTR 2006 (THETA 15), TOME II, pp 84-89, ISBN: 1-4222-0360-X, May, 25-28, 2006 Cluj-Napoca, Romania (ISI proceedings).\n",
    "Moldovan, G.S., Serban, G., Aspect Mining using a Vector-Space Model Based Clustering Approach , in Proceedings of Linking Aspect Technology and Evolution (LATE) Workshop, co-located with AOSD'06, March, 20, Bonn, Germany, 2006, pp. 36-40.\n",
    "Niculescu, V., Moldovan, G.S., Building an Object Oriented Computational Algebra System Based on Design Patterns, 7th International Symposium on Symbolic and Numeric Algorithms for Scientific Computing (SYNASC'05),Timisoara, Romania, IEEE Computer Society Press, ISBN 0-7695-2453-2, pp 101-108, 2005. (ISI proceedings)\n",
    "Moldovan, G.S., Tarta, A. Designing a Task Analysis Tool using JHotDraw and Design Patterns, In Proceedings of International Conference on Theory and Applications of Mathematics and Informatics (ICTAMI 2005), Part B, pp. 77-86, Alba Iulia, Romania, 2005.\n",
    "Niculescu, V., Moldovan, G.S., OOLACA: An Object Oriented Library for Abstract and Computational Algebra, Companion to the 19th annual ACM SIGPLAN Conference on Object-Oriented Programming Systems, Languages, and Applications, Vancouver, Canada, 2004, pp. 160-161.\n",
    "Czibula G., Cojocar G. S., Identifying Crosscutting Concerns Using Partitional Clustering, WSEAS TRANSACTIONS on COMPUTERS, 2009, pp.386-395\n",
    "Czibula, I.G., Czibula, G., Cojocar G.S. , Hierarchical Clustering for Identifying Crosscutting Concerns in Object Oriented Software Systems , INFOCOMP Journal of Computer Science, Brazilia , 2009, pp.21-28\n",
    "Cojocar(Moldovan), G.S., Serban, G., A Formal Model for Partitioning Based Aspect Mining, in INFOCOMP Journal of Computer Science, Brazilia, 2007, volume 6, number 3, pp. 19-26.\n",
    "Moldovan, G.S., Serban, G., Clustering Based Aspect Mining Formalized, in WSEAS Transactions on Computers, Issue 2, Vol.6, February 2007, pp. 199-206\n",
    "Serban, G., Moldovan, G.S. Aspect Mining using an Evolutionary Approach, in WSEAS Transactions on Computers, Issue 2, Vol.6, February 2007, pp. 298-305.\n",
    "Cojocar, G.S., Aspect Mining. Past, Present, Future, Zilele Academice Clujene, Presa Universitara Clujeana, Editor: M. Frentiu, 2012, pp. 15-19\n",
    "Cojocar, G.S., Guran A.M., Agent-Based Approach in Cancer Registry Management, Zilele Academice Clujene, Presa Universitare Clujeana, Editor: M. Frentiu, 2010, pp. 29-36\n",
    "Guran A. M., Cojocar G.S., Neamtiu Luciana, O abordare centrata pe utilizator in dezvoltarea unui sistem inteligent pentru generarea Registrelor Nationale de cancer, Conferinta Nationala de Interactiune Om-Calculator, Matrix Rom, 2009, pp. 77-83\n",
    "Cojocar, G.S., Czibula, G., FRAM - A Framework for Evaluating the Results of Aspect Mining Techniques , Proceedings of the National Conference \"Zilele Academice Clujene\", Cluj-Napoca, 2008, pp.13-20.\n",
    "Moldovan, G.S., Serban, G., CAMIT - A Tool for Comparing Clustering Based Aspect Mining Techniques , Proceedings of the Symposium \"Zilele Academice Clujene\", Cluj-Napoca, 2006, pp.9-14.\n",
    "Tarta, A., Moldovan, G.S., GTA Tool - A Task Analysis Tool, Proceedings of the Symposium \"Colocviul Academic Clujean de Informatica\", Cluj-Napoca, 2005, pp 69-74.\n",
    "Moldovan, G. S., Aspect Oriented Programming: A Case Study, Proceedings of the Symposium \"Zilele Academice Clujene\", Cluj-Napoca, 2004, pp 3-8.\n",
    "Moldovan, G.S., Building an Application Using EJB Design Patterns, Proceedings of the Symposium \"Colocviul Academic Clujean de Informatica\", Cluj Napoca, 2003, pp. 45-52.\n",
    "Cojocar, G.S., Czibula G., A Comparative Analysis Of Clustering Algorithms In Aspect Mining, in STUDIA UNIV. BABES-BOLYAI, INFORMATICA , Volume LIV, No. 1, 2009, pp.75-84\n",
    "Guran, A.M., Cojocar G.S., Abordari în evaluarea automata a utilizabilitatii. Studiu comparativ , Revista Romana de Interactiune Om-Calculator , Bucuresti , Ed. Matrix Rom 2008, pp.73-84\n",
    "Tarta, A.M., Moldovan, G.S., Serban, G., An Agent Based User Interface Evaluation Using Aspect Oriented Programming , in Creative Mathematics and Informatics, North University of Baia Mare, Volume 16, 2007, pp. 151-158.\n",
    "Moldovan, G.S. , Serban, G., A Study on Distance Metrics for Partitioning Based Aspect Mining, Studia Universitatis Babes-Bolyai, Informatica, Volume LI, Number 2, 2006, pp. 53-60.\n",
    "Serban, G., Moldovan, G.S. A Graph Algorithm for Identification of Crosscutting Concerns, Studia Universitatis Babes-Bolyai, Informatica, Volume LI, Number 2, 2006, pp. 3-10.\n",
    "Serban, G., Moldovan, G.S. A Comparison of Clustering Techniques in Aspect Mining, Studia Universitatis Babes-Bolyai, Informatica, Volume LI, Number 1, pp. 69-78, 2006.\n",
    "Niculescu, V., Moldovan, G.S., Integrating Conversions into a Computational Algebraic System, Studia Universitatis Babes-Bolyai, Informatica, Volume L, Number 2, pp. 41-48, 2005.\n",
    "Moldovan, G.S., Traitement automatique de la langue,Babes-Bolyai University, Seminar on Computer Science, Preprint Vol. 2001, pp. 75-82.\n",
    "Cojocar G. S, Aspect Mining , Editura Casa Cartii de Stiinta, 2009, pp. 208\n",
    "\"\"\""
   ]
  },
  {
   "cell_type": "code",
   "execution_count": 64,
   "metadata": {},
   "outputs": [],
   "source": [
    "class HelperMethods:\n",
    "    @staticmethod\n",
    "    def IsDate(text):\n",
    "#         print(\"text\")\n",
    "#         print(text)\n",
    "        for c in text.lstrip():\n",
    "            if c not in \"1234567890 \":\n",
    "                return False\n",
    "        return True"
   ]
  },
  {
   "cell_type": "code",
   "execution_count": 7,
   "metadata": {},
   "outputs": [],
   "source": [
    "def GetPublicationData_Number(text):\n",
    "    title = text.split(',')[0].split('.')[1]\n",
    "    try:\n",
    "        date = [k.lstrip() for k in text.split(',') if HelperMethods.IsDate(k.lstrip())][0]\n",
    "    except:\n",
    "        date = \"\"\n",
    "    return title, \"\", date"
   ]
  },
  {
   "cell_type": "code",
   "execution_count": 8,
   "metadata": {},
   "outputs": [],
   "source": [
    "import re\n",
    "def GetCoAuthorData(text):\n",
    "#     print(text)\n",
    "    val = re.search('\\\"[a-zA-Z ]+\\\"', text)\n",
    "    title = val.group(0)\n",
    "    val = re.search('Authors: [a-zA-Z,-. ]+ (?=Pages)', text)\n",
    "    authors = val.group(0)\n",
    "#     print(authors)\n",
    "    return title, authors, \"\""
   ]
  },
  {
   "cell_type": "code",
   "execution_count": 9,
   "metadata": {},
   "outputs": [],
   "source": [
    "def GetPublicationData_A(text):\n",
    "    print(text)\n",
    "    print()\n",
    "    text = text.replace(\"M. \", \"\")\n",
    "    authors = text.split('.')[0]\n",
    "    print(\"authors: \", authors)\n",
    "    title = text.split('.')[1].lstrip(' \\\"')\n",
    "    print(\"title: \", title)\n",
    "    try:\n",
    "        val = re.search('(19|20)[0-9]{2}\\.', text)\n",
    "        date = val.group(0).rstrip('.')\n",
    "    except:\n",
    "        date = \"\"\n",
    "    \n",
    "    print()\n",
    "    \n",
    "    \n",
    "    return title, authors, date"
   ]
  },
  {
   "cell_type": "code",
   "execution_count": 77,
   "metadata": {},
   "outputs": [],
   "source": [
    "def GetPubData_B(text):\n",
    "    title_v = re.findall(\"[a-zA-Z ]+[^,]\", text)\n",
    "    \n",
    "    match_len = []\n",
    "    for k in title_v:\n",
    "        match_len.append((len(k), k))\n",
    "    match_len.sort(reverse=True)\n",
    "    title = match_len[0][1]\n",
    "    affiliations = match_len[1][1]\n",
    "    \n",
    "    #print(match_len)\n",
    "    try:\n",
    "#         print(text.split(','))\n",
    "        date = [k.lstrip() for k in text.split(',') if HelperMethods.IsDate(k.lstrip())][0]\n",
    "    except Exception as ex:\n",
    "#         print(ex)\n",
    "        date = \"\"\n",
    "    \n",
    "    \n",
    "    return title, affiliations, date\n",
    "        "
   ]
  },
  {
   "cell_type": "code",
   "execution_count": 78,
   "metadata": {},
   "outputs": [],
   "source": [
    "pubs = []\n",
    "for e in text_all.split('\\n')[1:-1]:\n",
    "    #print(e)\n",
    "    title, affiliations, date = GetPubData_B(e)\n",
    "    pubs.append((title, affiliations, date))\n",
    " "
   ]
  },
  {
   "cell_type": "code",
   "execution_count": 79,
   "metadata": {},
   "outputs": [
    {
     "name": "stdout",
     "output_type": "stream",
     "text": [
      "(' Evaluation Measures For Partitioning Based Aspect Mining Techniques', ' International Journal Of Computers Communications &', '2011')\n",
      "(' A hierarchical clustering based approach in aspect mining', ' Computing And Informatics', '2010')\n",
      "(' International Journal of Computers Communications &', ' Developing an Usability Evaluation Module using AOP', '1')\n",
      "('th International Conference on Intelligent Computer Communication and Processing(', ' An Intelligent Personal Assistant Agent For Task Performance Support', '')\n",
      "(' A partitional clustering algorithm for crosscutting concerns identification', ' Proceedings of SEPADS 2', '')\n",
      "(' Assisting Software Maintenance and Evolution Using an Agent Based Approach', ' in Proceedings of Knowledge Engineering:', '2009')\n",
      "(' in Proceedings of International Conference Knowledge Engineering:', ' A Comparison of AOP based Monitoring Tools', '2011')\n",
      "(' in Proceedings of International Conference Knowledge Engineering:', ' Decision support system for software maintenance and evolution', '')\n",
      "(' in Proceedings of Complexity In Artificial And Natural Systems (', ' An Intelligent MultiAgent System for Clinical Decision Support', '')\n",
      "(' in Proceedings of Sixth International Conference on Applied Mathematics (', ' A multiagent based approach for national cancer registry management ', '')\n",
      "('th IEEE International Conference on Intelligent Computer Communication and Processing (', ' On Clustering based Aspect Mining ', '2008')\n",
      "(' Multiagent Decision Support Systems based on Supervised Learning', 'TTTC International Conference on Automation', '')\n",
      "(' A New Hierarchical Agglomerative Clustering Algorithm in Aspect Mining', 'rd Balkan Conference in Informatics', '')\n",
      "(' An Agent Based Approach for Pandemic Spread Prediction ', 'rd Balkan Conference in Informatics', '')\n",
      "('rd IEEE International Conference on Intelligent Computer Communication and Processing (', ' On Evaluating Aspect Mining Techniques ', '2007')\n",
      "(' in Proceedings of Knowledge Engineering:', 'Based Approach in Aspect Mining', '2007')\n",
      "(' in Proceedings of Linking Aspect Technology and Evolution (', ' On Some Criteria for Comparing Aspect Mining Techniques ', '12')\n",
      "(' HCI Intelligent Multimodal Interaction Environments by J.', ' A Learning Interface Agent for User Behavior Prediction', '')\n",
      "('th WSEAS International Conference on Mathematical Methods and Computational Techniques in Electrical Engineering (', ' A New Genetic Clustering Based Approach in Aspect Mining', '2006')\n",
      "('th WSEAS International Conference on Mathematical Methods and Computational Techniques in Electrical Engineering (', ' A Formal Model for Clustering Based Aspect Mining ', '2006')\n",
      "('th International Symposium on Symbolic and Numeric Algorithms for Scientific Computing (', 'means based clustering algorithm in Aspect Mining', '2006')\n",
      "(' An Agent Based User Interface Evaluation Using Aspect Oriented Programming ', ' in Proceedings of Fifth International Conference on Applied Mathematics (', '')\n",
      "(' A Comparison of Using AOP and Java Accessibility for Usability Evaluation ', 'th European Conference on Intelligent Systems and Technologies (', '2006')\n",
      "(' Quality Measures for Clustering Based Aspect Mining Techniques ', ' in Proceedings of Towards Evaluation of Aspect Mining (', '')\n",
      "('TTTC International Conference on Automation', ' Automatic Usability Evaluation using AOP ', '')\n",
      "(' in Proceedings of Linking Aspect Technology and Evolution (', 'Space Model Based Clustering Approach ', '20')\n",
      "('th International Symposium on Symbolic and Numeric Algorithms for Scientific Computing (', ' Building an Object Oriented Computational Algebra System Based on Design Patterns', '')\n",
      "(' In Proceedings of International Conference on Theory and Applications of Mathematics and Informatics (', ' Designing a Task Analysis Tool using JHotDraw and Design Patterns', '')\n",
      "(' An Object Oriented Library for Abstract and Computational Algebra', 'th annual ACM SIGPLAN Conference on Object-', '2004')\n",
      "(' Identifying Crosscutting Concerns Using Partitional Clustering', ' WSEAS TRANSACTIONS on COMPUTERS', '2009')\n",
      "(' Hierarchical Clustering for Identifying Crosscutting Concerns in Object Oriented Software Systems ', ' INFOCOMP Journal of Computer Science', '2009')\n",
      "(' A Formal Model for Partitioning Based Aspect Mining', ' in INFOCOMP Journal of Computer Science', '2007')\n",
      "(' Clustering Based Aspect Mining Formalized', ' in WSEAS Transactions on Computers', '')\n",
      "(' Aspect Mining using an Evolutionary Approach', ' in WSEAS Transactions on Computers', '')\n",
      "(' Presa Universitara Clujeana', ' Zilele Academice Clujene', '2012')\n",
      "('Based Approach in Cancer Registry Management', ' Presa Universitare Clujeana', '2010')\n",
      "(' O abordare centrata pe utilizator in dezvoltarea unui sistem inteligent pentru generarea Registrelor Nationale de cancer', ' Conferinta Nationala de Interactiune Om-', '2009')\n",
      "(' A Framework for Evaluating the Results of Aspect Mining Techniques ', ' Proceedings of the National Conference \"', '2008')\n",
      "(' A Tool for Comparing Clustering Based Aspect Mining Techniques ', ' Proceedings of the Symposium \"', '2006')\n",
      "('Colocviul Academic Clujean de Informatica\"', ' Proceedings of the Symposium \"', '2005')\n",
      "(' Proceedings of the Symposium \"', ' Aspect Oriented Programming:', '2004')\n",
      "(' Building an Application Using EJB Design Patterns', 'Colocviul Academic Clujean de Informatica\"', '2003')\n",
      "(' A Comparative Analysis Of Clustering Algorithms In Aspect Mining', ' in STUDIA UNIV.', '2009')\n",
      "('n evaluarea automata a utilizabilitatii.', ' Revista Romana de Interactiune Om-', '')\n",
      "(' An Agent Based User Interface Evaluation Using Aspect Oriented Programming ', ' in Creative Mathematics and Informatics', '2007')\n",
      "(' A Study on Distance Metrics for Partitioning Based Aspect Mining', ' Studia Universitatis Babes-', '2006')\n",
      "(' A Graph Algorithm for Identification of Crosscutting Concerns', ' Studia Universitatis Babes-', '2006')\n",
      "(' A Comparison of Clustering Techniques in Aspect Mining', ' Studia Universitatis Babes-', '')\n",
      "(' Integrating Conversions into a Computational Algebraic System', ' Studia Universitatis Babes-', '')\n",
      "(' Traitement automatique de la langue', ' Seminar on Computer Science', '')\n",
      "(' Editura Casa Cartii de Stiinta', ' Aspect Mining ', '2009')\n"
     ]
    }
   ],
   "source": [
    "for pub in pubs:\n",
    "    print(pub)"
   ]
  },
  {
   "cell_type": "code",
   "execution_count": 80,
   "metadata": {},
   "outputs": [
    {
     "name": "stdout",
     "output_type": "stream",
     "text": [
      "Count:  51\n"
     ]
    }
   ],
   "source": [
    "print(\"Count: \", len(pubs))"
   ]
  },
  {
   "cell_type": "code",
   "execution_count": 81,
   "metadata": {},
   "outputs": [],
   "source": [
    "import mariadb\n",
    "import json"
   ]
  },
  {
   "cell_type": "code",
   "execution_count": 82,
   "metadata": {},
   "outputs": [],
   "source": [
    "with open('../credentials.json', 'r') as crd_json_fd:\n",
    "    json_text = crd_json_fd.read()\n",
    "    json_obj = json.loads(json_text)"
   ]
  },
  {
   "cell_type": "code",
   "execution_count": 83,
   "metadata": {},
   "outputs": [],
   "source": [
    "credentials = json_obj[\"Credentials\"]\n",
    "username = credentials[\"username\"]\n",
    "password = credentials[\"password\"]"
   ]
  },
  {
   "cell_type": "code",
   "execution_count": 84,
   "metadata": {},
   "outputs": [],
   "source": [
    "table_name = \"publications_cache\"\n",
    "db_name = \"ubbcluj\""
   ]
  },
  {
   "cell_type": "code",
   "execution_count": 85,
   "metadata": {},
   "outputs": [
    {
     "name": "stdout",
     "output_type": "stream",
     "text": [
      "publications_cache\n"
     ]
    }
   ],
   "source": [
    "print(table_name)"
   ]
  },
  {
   "cell_type": "code",
   "execution_count": 86,
   "metadata": {},
   "outputs": [],
   "source": [
    "mariadb_connection = mariadb.connect(user=username, password=password, database=db_name)\n",
    "mariadb_cursor = mariadb_connection.cursor()"
   ]
  },
  {
   "cell_type": "code",
   "execution_count": 95,
   "metadata": {},
   "outputs": [
    {
     "name": "stdout",
     "output_type": "stream",
     "text": [
      "INSERT INTO publications_cache SET Title='Evaluation Measures For Partitioning Based Aspect Mining Techniques', ProfessorId='10', PublicationDate='2011-01-01', Affiliations='International Journal Of Computers Communications &' \n",
      "INSERT INTO publications_cache SET Title='A hierarchical clustering based approach in aspect mining', ProfessorId='10', PublicationDate='2010-01-01', Affiliations='Computing And Informatics' \n",
      "INSERT INTO publications_cache SET Title='International Journal of Computers Communications &', ProfessorId='10', Affiliations='Developing an Usability Evaluation Module using AOP' \n",
      "INSERT INTO publications_cache SET Title='th International Conference on Intelligent Computer Communication and Processing(', ProfessorId='10', Affiliations='An Intelligent Personal Assistant Agent For Task Performance Support' \n",
      "INSERT INTO publications_cache SET Title='A partitional clustering algorithm for crosscutting concerns identification', ProfessorId='10', Affiliations='Proceedings of SEPADS 2' \n",
      "INSERT INTO publications_cache SET Title='Assisting Software Maintenance and Evolution Using an Agent Based Approach', ProfessorId='10', PublicationDate='2009-01-01', Affiliations='in Proceedings of Knowledge Engineering:' \n",
      "INSERT INTO publications_cache SET Title='in Proceedings of International Conference Knowledge Engineering:', ProfessorId='10', PublicationDate='2011-01-01', Affiliations='A Comparison of AOP based Monitoring Tools' \n",
      "INSERT INTO publications_cache SET Title='in Proceedings of International Conference Knowledge Engineering:', ProfessorId='10', Affiliations='Decision support system for software maintenance and evolution' \n",
      "INSERT INTO publications_cache SET Title='in Proceedings of Complexity In Artificial And Natural Systems (', ProfessorId='10', Affiliations='An Intelligent MultiAgent System for Clinical Decision Support' \n",
      "INSERT INTO publications_cache SET Title='in Proceedings of Sixth International Conference on Applied Mathematics (', ProfessorId='10', Affiliations='A multiagent based approach for national cancer registry management ' \n",
      "INSERT INTO publications_cache SET Title='th IEEE International Conference on Intelligent Computer Communication and Processing (', ProfessorId='10', PublicationDate='2008-01-01', Affiliations='On Clustering based Aspect Mining ' \n",
      "INSERT INTO publications_cache SET Title='Multiagent Decision Support Systems based on Supervised Learning', ProfessorId='10', Affiliations='TTTC International Conference on Automation' \n",
      "INSERT INTO publications_cache SET Title='A New Hierarchical Agglomerative Clustering Algorithm in Aspect Mining', ProfessorId='10', Affiliations='rd Balkan Conference in Informatics' \n",
      "INSERT INTO publications_cache SET Title='An Agent Based Approach for Pandemic Spread Prediction ', ProfessorId='10', Affiliations='rd Balkan Conference in Informatics' \n",
      "INSERT INTO publications_cache SET Title='rd IEEE International Conference on Intelligent Computer Communication and Processing (', ProfessorId='10', PublicationDate='2007-01-01', Affiliations='On Evaluating Aspect Mining Techniques ' \n",
      "INSERT INTO publications_cache SET Title='in Proceedings of Knowledge Engineering:', ProfessorId='10', PublicationDate='2007-01-01', Affiliations='Based Approach in Aspect Mining' \n",
      "INSERT INTO publications_cache SET Title='in Proceedings of Linking Aspect Technology and Evolution (', ProfessorId='10', Affiliations='On Some Criteria for Comparing Aspect Mining Techniques ' \n",
      "INSERT INTO publications_cache SET Title='HCI Intelligent Multimodal Interaction Environments by J.', ProfessorId='10', Affiliations='A Learning Interface Agent for User Behavior Prediction' \n",
      "INSERT INTO publications_cache SET Title='th WSEAS International Conference on Mathematical Methods and Computational Techniques in Electrical Engineering (', ProfessorId='10', PublicationDate='2006-01-01', Affiliations='A New Genetic Clustering Based Approach in Aspect Mining' \n",
      "INSERT INTO publications_cache SET Title='th WSEAS International Conference on Mathematical Methods and Computational Techniques in Electrical Engineering (', ProfessorId='10', PublicationDate='2006-01-01', Affiliations='A Formal Model for Clustering Based Aspect Mining ' \n",
      "INSERT INTO publications_cache SET Title='th International Symposium on Symbolic and Numeric Algorithms for Scientific Computing (', ProfessorId='10', PublicationDate='2006-01-01', Affiliations='means based clustering algorithm in Aspect Mining' \n",
      "INSERT INTO publications_cache SET Title='An Agent Based User Interface Evaluation Using Aspect Oriented Programming ', ProfessorId='10', Affiliations='in Proceedings of Fifth International Conference on Applied Mathematics (' \n",
      "INSERT INTO publications_cache SET Title='A Comparison of Using AOP and Java Accessibility for Usability Evaluation ', ProfessorId='10', PublicationDate='2006-01-01', Affiliations='th European Conference on Intelligent Systems and Technologies (' \n",
      "INSERT INTO publications_cache SET Title='Quality Measures for Clustering Based Aspect Mining Techniques ', ProfessorId='10', Affiliations='in Proceedings of Towards Evaluation of Aspect Mining (' \n",
      "INSERT INTO publications_cache SET Title='TTTC International Conference on Automation', ProfessorId='10', Affiliations='Automatic Usability Evaluation using AOP ' \n",
      "INSERT INTO publications_cache SET Title='in Proceedings of Linking Aspect Technology and Evolution (', ProfessorId='10', Affiliations='Space Model Based Clustering Approach ' \n",
      "INSERT INTO publications_cache SET Title='th International Symposium on Symbolic and Numeric Algorithms for Scientific Computing (', ProfessorId='10', Affiliations='Building an Object Oriented Computational Algebra System Based on Design Patterns' \n",
      "INSERT INTO publications_cache SET Title='In Proceedings of International Conference on Theory and Applications of Mathematics and Informatics (', ProfessorId='10', Affiliations='Designing a Task Analysis Tool using JHotDraw and Design Patterns' \n",
      "INSERT INTO publications_cache SET Title='An Object Oriented Library for Abstract and Computational Algebra', ProfessorId='10', PublicationDate='2004-01-01', Affiliations='th annual ACM SIGPLAN Conference on Object-' \n",
      "INSERT INTO publications_cache SET Title='Identifying Crosscutting Concerns Using Partitional Clustering', ProfessorId='10', PublicationDate='2009-01-01', Affiliations='WSEAS TRANSACTIONS on COMPUTERS' \n",
      "INSERT INTO publications_cache SET Title='Hierarchical Clustering for Identifying Crosscutting Concerns in Object Oriented Software Systems ', ProfessorId='10', PublicationDate='2009-01-01', Affiliations='INFOCOMP Journal of Computer Science' \n",
      "INSERT INTO publications_cache SET Title='A Formal Model for Partitioning Based Aspect Mining', ProfessorId='10', PublicationDate='2007-01-01', Affiliations='in INFOCOMP Journal of Computer Science' \n",
      "INSERT INTO publications_cache SET Title='Clustering Based Aspect Mining Formalized', ProfessorId='10', Affiliations='in WSEAS Transactions on Computers' \n",
      "INSERT INTO publications_cache SET Title='Aspect Mining using an Evolutionary Approach', ProfessorId='10', Affiliations='in WSEAS Transactions on Computers' \n",
      "INSERT INTO publications_cache SET Title='Presa Universitara Clujeana', ProfessorId='10', PublicationDate='2012-01-01', Affiliations='Zilele Academice Clujene' \n",
      "INSERT INTO publications_cache SET Title='Based Approach in Cancer Registry Management', ProfessorId='10', PublicationDate='2010-01-01', Affiliations='Presa Universitare Clujeana' \n",
      "INSERT INTO publications_cache SET Title='O abordare centrata pe utilizator in dezvoltarea unui sistem inteligent pentru generarea Registrelor Nationale de cancer', ProfessorId='10', PublicationDate='2009-01-01', Affiliations='Conferinta Nationala de Interactiune Om-' \n",
      "INSERT INTO publications_cache SET Title='A Framework for Evaluating the Results of Aspect Mining Techniques ', ProfessorId='10', PublicationDate='2008-01-01', Affiliations='Proceedings of the National Conference \"' \n",
      "INSERT INTO publications_cache SET Title='A Tool for Comparing Clustering Based Aspect Mining Techniques ', ProfessorId='10', PublicationDate='2006-01-01', Affiliations='Proceedings of the Symposium \"' \n",
      "INSERT INTO publications_cache SET Title='Colocviul Academic Clujean de Informatica\"', ProfessorId='10', PublicationDate='2005-01-01', Affiliations='Proceedings of the Symposium \"' \n",
      "INSERT INTO publications_cache SET Title='Proceedings of the Symposium \"', ProfessorId='10', PublicationDate='2004-01-01', Affiliations='Aspect Oriented Programming:' \n",
      "INSERT INTO publications_cache SET Title='Building an Application Using EJB Design Patterns', ProfessorId='10', PublicationDate='2003-01-01', Affiliations='Colocviul Academic Clujean de Informatica\"' \n",
      "INSERT INTO publications_cache SET Title='A Comparative Analysis Of Clustering Algorithms In Aspect Mining', ProfessorId='10', PublicationDate='2009-01-01', Affiliations='in STUDIA UNIV.' \n",
      "INSERT INTO publications_cache SET Title='n evaluarea automata a utilizabilitatii.', ProfessorId='10', Affiliations='Revista Romana de Interactiune Om-' \n",
      "INSERT INTO publications_cache SET Title='An Agent Based User Interface Evaluation Using Aspect Oriented Programming ', ProfessorId='10', PublicationDate='2007-01-01', Affiliations='in Creative Mathematics and Informatics' \n",
      "INSERT INTO publications_cache SET Title='A Study on Distance Metrics for Partitioning Based Aspect Mining', ProfessorId='10', PublicationDate='2006-01-01', Affiliations='Studia Universitatis Babes-' \n",
      "INSERT INTO publications_cache SET Title='A Graph Algorithm for Identification of Crosscutting Concerns', ProfessorId='10', PublicationDate='2006-01-01', Affiliations='Studia Universitatis Babes-' \n",
      "INSERT INTO publications_cache SET Title='A Comparison of Clustering Techniques in Aspect Mining', ProfessorId='10', Affiliations='Studia Universitatis Babes-' \n",
      "INSERT INTO publications_cache SET Title='Integrating Conversions into a Computational Algebraic System', ProfessorId='10', Affiliations='Studia Universitatis Babes-' \n",
      "INSERT INTO publications_cache SET Title='Traitement automatique de la langue', ProfessorId='10', Affiliations='Seminar on Computer Science' \n",
      "INSERT INTO publications_cache SET Title='Editura Casa Cartii de Stiinta', ProfessorId='10', PublicationDate='2009-01-01', Affiliations='Aspect Mining ' \n",
      "51\n"
     ]
    }
   ],
   "source": [
    "ctr = 0\n",
    "for paper in pubs:\n",
    "    \n",
    "    title = \"\"\n",
    "    pub_date = \"\"\n",
    "    authors = \"\"\n",
    "    \n",
    "    try:\n",
    "        pub_date = paper[2].lstrip()\n",
    "        pub_date = str(pub_date) + \"-01-01\"\n",
    "        if len(pub_date) != 10:\n",
    "            pub_date = \"\"\n",
    "    except:\n",
    "        pass\n",
    "    \n",
    "    try:\n",
    "        title = paper[0].lstrip()\n",
    "    except:\n",
    "        pass\n",
    "    \n",
    "    try:\n",
    "        affiliations = paper[1].lstrip()\n",
    "    except AttributeError:\n",
    "        pass\n",
    "    \n",
    "    \n",
    "    \n",
    "    insert_string = \"INSERT INTO {0} SET \".format(table_name)\n",
    "    insert_string += \"Title=\\'{0}\\', \".format(title)\n",
    "    insert_string += \"ProfessorId=\\'{0}\\', \".format(10)\n",
    "    if pub_date != \"\":\n",
    "        insert_string += \"PublicationDate=\\'{0}\\', \".format(str(pub_date))\n",
    "    #insert_string += \"Authors=\\'{0}\\', \".format(authors)\n",
    "    insert_string += \"Affiliations=\\'{0}\\' \".format(affiliations)\n",
    "    print(insert_string)\n",
    "\n",
    "    ctr += 1\n",
    "    continue\n",
    "#     raise NotImplementedError (\"win\")\n",
    "    try:\n",
    "        mariadb_cursor.execute(insert_string)\n",
    "    except mariadb.ProgrammingError as pe:\n",
    "        print(\"Error\")\n",
    "        raise pe\n",
    "    except mariadb.IntegrityError:\n",
    "        continue\n",
    "\n",
    "print(ctr)"
   ]
  },
  {
   "cell_type": "code",
   "execution_count": 148,
   "metadata": {},
   "outputs": [],
   "source": [
    "mariadb_connection.close()"
   ]
  }
 ],
 "metadata": {
  "kernelspec": {
   "display_name": "Python 3",
   "language": "python",
   "name": "python3"
  },
  "language_info": {
   "codemirror_mode": {
    "name": "ipython",
    "version": 3
   },
   "file_extension": ".py",
   "mimetype": "text/x-python",
   "name": "python",
   "nbconvert_exporter": "python",
   "pygments_lexer": "ipython3",
   "version": "3.7.8"
  }
 },
 "nbformat": 4,
 "nbformat_minor": 4
}
