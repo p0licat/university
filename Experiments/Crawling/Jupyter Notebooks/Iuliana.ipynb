{
 "cells": [
  {
   "cell_type": "markdown",
   "metadata": {},
   "source": [
    "## Manual publication DB insertion from raw text using syntax features\n",
    "### Publications and conferences of Dr. BOCICOR Maria Iuliana, Profesor Universitar\n",
    "#### http://www.cs.ubbcluj.ro/~iuliana"
   ]
  },
  {
   "cell_type": "code",
   "execution_count": 1,
   "metadata": {},
   "outputs": [],
   "source": [
    "class HelperMethods:\n",
    "    @staticmethod\n",
    "    def IsDate(text):\n",
    "#         print(\"text\")\n",
    "#         print(text)\n",
    "        for c in text.lstrip():\n",
    "            if c not in \"1234567890 \":\n",
    "                return False\n",
    "        return True"
   ]
  },
  {
   "cell_type": "code",
   "execution_count": 2,
   "metadata": {},
   "outputs": [],
   "source": [
    "import pandas\n",
    "import requests"
   ]
  },
  {
   "cell_type": "code",
   "execution_count": 3,
   "metadata": {},
   "outputs": [],
   "source": [
    "page = requests.get('https://sites.google.com/view/iuliana-bocicor/research/publications')"
   ]
  },
  {
   "cell_type": "code",
   "execution_count": 4,
   "metadata": {},
   "outputs": [],
   "source": [
    "data = page.text\n"
   ]
  },
  {
   "cell_type": "code",
   "execution_count": 5,
   "metadata": {},
   "outputs": [],
   "source": [
    "from bs4 import BeautifulSoup"
   ]
  },
  {
   "cell_type": "code",
   "execution_count": 6,
   "metadata": {},
   "outputs": [],
   "source": [
    "soup = BeautifulSoup(data)"
   ]
  },
  {
   "cell_type": "code",
   "execution_count": 142,
   "metadata": {},
   "outputs": [],
   "source": [
    "def GetPublicationData_Number(text):\n",
    "    title = text.split(',')[0].split('.')[1]\n",
    "    try:\n",
    "        date = [k.lstrip() for k in text.split(',') if HelperMethods.IsDate(k.lstrip())][0]\n",
    "    except:\n",
    "        date = \"\"\n",
    "    return title, \"\", date"
   ]
  },
  {
   "cell_type": "code",
   "execution_count": 143,
   "metadata": {},
   "outputs": [],
   "source": [
    "import re\n",
    "def GetCoAuthorData(text):\n",
    "#     print(text)\n",
    "    val = re.search('\\\"[a-zA-Z ]+\\\"', text)\n",
    "    title = val.group(0)\n",
    "    val = re.search('Authors: [a-zA-Z,-. ]+ (?=Pages)', text)\n",
    "    authors = val.group(0)\n",
    "#     print(authors)\n",
    "    return title, authors, \"\""
   ]
  },
  {
   "cell_type": "code",
   "execution_count": 144,
   "metadata": {},
   "outputs": [],
   "source": [
    "def GetPublicationData_A(text):\n",
    "    print(text)\n",
    "    print()\n",
    "    text = text.replace(\"M. \", \"\")\n",
    "    authors = text.split('.')[0]\n",
    "    print(\"authors: \", authors)\n",
    "    title = text.split('.')[1].lstrip(' \\\"')\n",
    "    print(\"title: \", title)\n",
    "    try:\n",
    "        val = re.search('(19|20)[0-9]{2}\\.', text)\n",
    "        date = val.group(0).rstrip('.')\n",
    "    except:\n",
    "        date = \"\"\n",
    "    \n",
    "    print()\n",
    "    \n",
    "    \n",
    "    return title, authors, date"
   ]
  },
  {
   "cell_type": "code",
   "execution_count": 145,
   "metadata": {},
   "outputs": [
    {
     "name": "stdout",
     "output_type": "stream",
     "text": [
      "Szuhai, Iulia-Monica, Maria Iuliana Bocicor, Emilia-Loredana Pop, Ioan-Gabriel Mircea, and Cristina Mircea. \"Investigating Differences between Ancient and Modern Bacterial DNA in Dental Calculus via Autoencoders.\" In 2019 21st International Symposium on Symbolic and Numeric Algorithms for Scientific Computing (SYNASC), pp. 141-147. IEEE, 2019. \n",
      "\n",
      "authors:  Szuhai, Iulia-Monica, Maria Iuliana Bocicor, Emilia-Loredana Pop, Ioan-Gabriel Mircea, and Cristina Mircea\n",
      "title:  Investigating Differences between Ancient and Modern Bacterial DNA in Dental Calculus via Autoencoders\n",
      "\n",
      "Iuliana Marin, Maria-Iuliana Bocicor, Arthur-Jozsef Molnar. Indoor Localisation with Intelligent Luminaires for Home Monitoring. In Proceedings of the 14th International Conference on Evaluation of Novel Approaches to Software Engineering (ENASE 2019), pages 464-471, ISBN: 978-989-758-375-9, DOI: 10.5220/0007751304640471, 2019.\n",
      "\n",
      "authors:  Iuliana Marin, Maria-Iuliana Bocicor, Arthur-Jozsef Molnar\n",
      "title:  Indoor Localisation with Intelligent Luminaires for Home Monitoring\n",
      "\n",
      "Mihai Teletin, Gabriela Czibula, and Maria-Iuliana Bocicor. \"Using clustering models for uncovering proteins’ structural similarity.\" 2019 IEEE 13th International Symposium on Applied Computational Intelligence and Informatics (SACI). IEEE, 2019. \n",
      "\n",
      "authors:  Mihai Teletin, Gabriela Czibula, and Maria-Iuliana Bocicor\n",
      "title:  Using clustering models for uncovering proteins’ structural similarity\n",
      "\n",
      "Iuliana Bocicor, Arthur-Jozsef Molnar, Iuliana Marin, Nicolae Goga, David Cuesta Frau and Raúl Valor Pérez. Intelligent Decision Support for Pervasive Home Monitoring and Assisted Living. 2018 IEEE 14th International Conference on Intelligent Computer Communication and Processing (ICCP), pages 129 - 136, 2018.\n",
      "\n",
      "authors:  Iuliana Bocicor, Arthur-Jozsef Molnar, Iuliana Marin, Nicolae Goga, David Cuesta Frau and Raúl Valor Pérez\n",
      "title:  Intelligent Decision Support for Pervasive Home Monitoring and Assisted Living\n",
      "\n",
      "Mihai Teletin, Gabriela Czibula, Maria-Iuliana Bocicor, Silvana Albert, Alessandro Pandini. Deep Autoencoders for Additional Insight into Protein Dynamics. Artificial Neural Networks and Machine Learning – ICANN 2018. Lecture Notes in Computer Science, vol 11140, pages 79-89. Springer, Cham. (ISI)\n",
      "\n",
      "authors:  Mihai Teletin, Gabriela Czibula, Maria-Iuliana Bocicor, Silvana Albert, Alessandro Pandini\n",
      "title:  Deep Autoencoders for Additional Insight into Protein Dynamics\n",
      "\n",
      "Iuliana Marin, Andrei Vasilateanu, Arthur-Jozsef Molnar, Maria Iuliana Bocicor, David Cuesta-Frau, Antonio Molina-Pico, Nicolae Goga. i-Light - Intelligent Luminaire Based Platform for Home Monitoring and Assisted Living. Electronics 2018, 7(10), 220, doi:10.3390/electronics7100220. (ISI)\n",
      "\n",
      "authors:  Iuliana Marin, Andrei Vasilateanu, Arthur-Jozsef Molnar, Maria Iuliana Bocicor, David Cuesta-Frau, Antonio Molina-Pico, Nicolae Goga\n",
      "title:  i-Light - Intelligent Luminaire Based Platform for Home Monitoring and Assisted Living\n",
      "\n",
      "Mihai Teletin, Gabriela Czibula, Silvana Albert, Maria-Iuliana Bocicor. Using unsupervised learning methods for enhancing protein structure insight. Procedia Computer Science, Volume 126, pages 19-28, 2018.\n",
      "\n",
      "authors:  Mihai Teletin, Gabriela Czibula, Silvana Albert, Maria-Iuliana Bocicor\n",
      "title:  Using unsupervised learning methods for enhancing protein structure insight\n",
      "\n",
      "Sorin Hostiuc, Arthur-Jozsef Molnar, Alin Moldoveanu, Maria Aluaş, Florica Moldoveanu, Iuliana Bocicor, Maria-Iuliana Dascalu, Elisabeta Bădilă, Mihaela Hostiuc, Ionut Negoi. Patient autonomy and disclosure of material information about hospital-acquired infections. Infection and Drug Resistance, 2018:11, pages 369—375, 2018. (ISI)\n",
      "\n",
      "authors:  Sorin Hostiuc, Arthur-Jozsef Molnar, Alin Moldoveanu, Maria Aluaş, Florica Moldoveanu, Iuliana Bocicor, Maria-Iuliana Dascalu, Elisabeta Bădilă, Mihaela Hostiuc, Ionut Negoi\n",
      "title:  Patient autonomy and disclosure of material information about hospital-acquired infections\n",
      "\n",
      "Maria Iuliana Bocicor, David Cuesta Frau, Ionut-Catalin Draghici, Nicolae Goga, Arthur-Jozsef Molnar, Raúl Valor Pérez, Andrei Vasilateanu. Cyber-Physical System for Assisted Living and Home Monitoring. Proceedings of the IEEE 13th International Conference on Intelligent Computer Communication and Processing (ICCP), 2017. (ISI) \n",
      "\n",
      "authors:  Maria Iuliana Bocicor, David Cuesta Frau, Ionut-Catalin Draghici, Nicolae Goga, Arthur-Jozsef Molnar, Raúl Valor Pérez, Andrei Vasilateanu\n",
      "title:  Cyber-Physical System for Assisted Living and Home Monitoring\n",
      "\n",
      "Ionut-Catalin Draghici, Monica Nastasia Mihailescu, Laurentiu Ilie Guta, Andrei Vasilateanu, Ionel-Bujorel Pavaloiu, Iuliana Bocicor, Arthur Molnar, Nicolae Goga. A Quantitative Research to Decide the User Requirements for the i-Light System. Proceedings of the 21st International Conference on Control Systems and Computer Science (CSCS), IEEE Computer Society, 2017. (ISI)\n",
      "\n",
      "authors:  Ionut-Catalin Draghici, Monica Nastasia Mihailescu, Laurentiu Ilie Guta, Andrei Vasilateanu, Ionel-Bujorel Pavaloiu, Iuliana Bocicor, Arthur Molnar, Nicolae Goga\n",
      "title:  A Quantitative Research to Decide the User Requirements for the i-Light System\n",
      "\n",
      "Iuliana Bocicor, Maria Dascălu, Agnieszka Gaczowska, Sorin Hostiuc, Alin Moldoveanu, Antonio Molina, Arthur-Jozsef Molnar, Ionuț Negoi and Vlad Racoviță. Wireless Sensor Network based System for the Prevention of Hospital Acquired Infections. Proceedings of the 12th International Conference on Evaluation of Novel Software Approaches to Software Engineering (ENASE2017), Vol. 1 – 978-989-758-250-9, 2017.\n",
      "\n",
      "authors:  Iuliana Bocicor, Maria Dascălu, Agnieszka Gaczowska, Sorin Hostiuc, Alin Moldoveanu, Antonio Molina, Arthur-Jozsef Molnar, Ionuț Negoi and Vlad Racoviță\n",
      "title:  Wireless Sensor Network based System for the Prevention of Hospital Acquired Infections\n",
      "\n",
      "Maria Iuliana Bocicor, Alessandro Pandini, Gabriela Czibula, Silvana Albert and Mihai Teletin. Using Computational Intelligence Models for Additional Insight into Protein Structure. Studia Universitatis “Babes-Bolyai\", Informatica, 62 (1), 107-119, 2017.\n",
      "\n",
      "authors:  Maria Iuliana Bocicor, Alessandro Pandini, Gabriela Czibula, Silvana Albert and Mihai Teletin\n",
      "title:  Using Computational Intelligence Models for Additional Insight into Protein Structure\n",
      "\n",
      "Ioan Gabriel Mircea, Maria Iuliana Bocicor, Gabriela Czibula. A Reinforcement Learning Based Approach to Multiple Sequence Alignment. Proceedings of the 7th International Workshop Soft Computing Applications (SOFA 2016), Vol. 2, Springer, pages 54-70, 2018. (ISI)\n",
      "\n",
      "authors:  Ioan Gabriel Mircea, Maria Iuliana Bocicor, Gabriela Czibula\n",
      "title:  A Reinforcement Learning Based Approach to Multiple Sequence Alignment\n",
      "\n",
      "Alex Graudenzi, Giulio Caravagna, Iuliana Bocicor, Claudia Cava, Marco Antoniotti, Giancarlo Mauri. Ordering cancer mutational profiles of cross-sectional copy number alterations. International Journal of Data Mining and Bioinformatics, Vol. 15, No. 1, pages 59-83, 2016. (ISI)\n",
      "\n",
      "authors:  Alex Graudenzi, Giulio Caravagna, Iuliana Bocicor, Claudia Cava, Marco Antoniotti, Giancarlo Mauri\n",
      "title:  Ordering cancer mutational profiles of cross-sectional copy number alterations\n",
      "\n",
      "Maria Iuliana Bocicor, Arthur-Jozsef Molnar, Cristian Taslitchi. Preventing Hospital Acquired Infections through a Workflow-based Cyber-physical System. Proceedings of the 11th International Conference on Evaluation of Novel Software Approaches to Software Engineering (ENASE2016), pages 63-68, 2016. (ISI)\n",
      "\n",
      "authors:  Maria Iuliana Bocicor, Arthur-Jozsef Molnar, Cristian Taslitchi\n",
      "title:  Preventing Hospital Acquired Infections through a Workflow-based Cyber-physical System\n",
      "\n",
      "N. Goga, A. Vasilateanu, M.N. Mihailescu, L. Guta, A. Molnar, I. Bocicor, L. Bolea, D. Stoica. Evaluating indoor localization using WiFi for patient tracking, 2016 International Symposium on Fundamentals of Electrical Engineering, IEEE Computer Society, 2016. (ISI)\n",
      "\n",
      "authors:  N\n",
      "title:  Goga, A\n",
      "\n",
      "I. Negoi, M. Beuran, S. Paun, A. Moldoveanu, R. Negoi, I. Bocicor, A. Molnar, M. Hostiuc. Antibiotic prophylaxis in gynecological surgery. A literature review. GINECOeu, Vol. 12, No. 3, pages 142-145, 2016.\n",
      "\n",
      "authors:  I\n",
      "title:  Negoi, Beuran, S\n",
      "\n",
      "Ioan Gabriel Mircea, Gabriela Czibula, Maria Iuliana Bocicor. A Q-learning Approach for Aligning Protein Sequences. Proceedings of the IEEE International Conference on Intelligent Computer Communication and Processing (ICCP2015), pages 51-58, 2015. (ISI)\n",
      "\n",
      "authors:  Ioan Gabriel Mircea, Gabriela Czibula, Maria Iuliana Bocicor\n",
      "title:  A Q-learning Approach for Aligning Protein Sequences\n",
      "\n",
      "Adela Maria Sîrbu, Gabriela Czibula, Maria Iuliana Bocicor. Dynamic clustering of gene expression data using a fuzzy approach. In Proceedings of the 16th International Symposium on Symbolic and Numeric Algorithms for Scientific Computing (SYNASC '14), pages 220-227, IEEE Computer Society, 2014. (ISI)\n",
      "\n",
      "authors:  Adela Maria Sîrbu, Gabriela Czibula, Maria Iuliana Bocicor\n",
      "title:  Dynamic clustering of gene expression data using a fuzzy approach\n",
      "\n",
      "Maria Iuliana Bocicor, Adela Sirbu, Gabriela Czibula. Dynamic core based clustering of gene expression data. International Journal of Innovative Computing Information and Control, Vol. 10, No. 3, pages 1051-1069, 2014. (ISI)\n",
      "\n",
      "authors:  Maria Iuliana Bocicor, Adela Sirbu, Gabriela Czibula\n",
      "title:  Dynamic core based clustering of gene expression data\n",
      "\n",
      "Ioan Gabriel Mircea, Maria Iuliana Bocicor, Andra Dîncu. On Reinforcement Learning Based Multiple Sequence Alignment. Studia Universitatis “Babes-Bolyai\", Informatica, LIX(2), pag. 50-65, 2014.\n",
      "\n",
      "authors:  Ioan Gabriel Mircea, Maria Iuliana Bocicor, Andra Dîncu\n",
      "title:  On Reinforcement Learning Based Multiple Sequence Alignment\n",
      "\n",
      "Gabriela Czibula, Iuliana M. Bocicor, Istvan-Gergely Czibula. Temporal Ordering of Cancer Microarray Data through a Reinforcement Learning Based Approach. PLoS ONE 8(4), 2013. (ISI)\n",
      "\n",
      "authors:  Gabriela Czibula, Iuliana Bocicor, Istvan-Gergely Czibula\n",
      "title:  Temporal Ordering of Cancer Microarray Data through a Reinforcement Learning Based Approach\n",
      "\n",
      "Gabriela Czibula, Istvan Gergely Czibula and Iuliana M. Bocicor. A Comparison of Reinforcement Learning based Models for the DNA Fragment Assembly Problem. Studia Universitatis “Babes-Bolyai\", Informatica, LVIII(2), pages 90-102, 2013.\n",
      "\n",
      "authors:  Gabriela Czibula, Istvan Gergely Czibula and Iuliana Bocicor\n",
      "title:  A Comparison of Reinforcement Learning based Models for the DNA Fragment Assembly Problem\n",
      "\n",
      "Adela Sîrbu and Maria Iuliana Bocicor. A Dynamic Approach for Hierarchical Clustering of Gene Expression Data. Proceedings of the 9th International Conference on Intelligent Computer Communication and Processing (ICCP2013), pages 3-6, IEEE Computer Society, 2013.\n",
      "\n",
      "authors:  Adela Sîrbu and Maria Iuliana Bocicor\n",
      "title:  A Dynamic Approach for Hierarchical Clustering of Gene Expression Data\n",
      "\n",
      "Alexandru Radovici, Ioana Culic, Iuliana Bocicor, Alexandru Armean, Madalin Ene. Platformă educațională care permite programarea dispozitivelor embedded din Cloud – Wyliodrin. Conferinţa Naţională de Învăţământ Virtual, 9th Edition, Universitatea din București, pag. 57 – 61, 2013.\n",
      "\n",
      "authors:  Alexandru Radovici, Ioana Culic, Iuliana Bocicor, Alexandru Armean, Madalin Ene\n",
      "title:  Platformă educațională care permite programarea dispozitivelor embedded din Cloud – Wyliodrin\n",
      "\n",
      "Gabriela Czibula, Maria Iuliana Bocicor and Istvan Gergely Czibula. Promoter Sequences Prediction Using Relational Association Rule Mining. Evolutionary Bioinformatics vol. 8, pages 181-196, 2012. (ISI)\n",
      "\n",
      "authors:  Gabriela Czibula, Maria Iuliana Bocicor and Istvan Gergely Czibula\n",
      "title:  Promoter Sequences Prediction Using Relational Association Rule Mining\n",
      "\n",
      "Iuliana M. Bocicor. A Study on using Reinforcement Learning for Temporal Ordering of Biological Samples. Studia Universitatis “Babes-Bolyai\", Informatica, LVII(4), pages 63-74, 2012.\n",
      "\n",
      "authors:  Iuliana Bocicor\n",
      "title:  A Study on using Reinforcement Learning for Temporal Ordering of Biological Samples\n",
      "\n",
      "Iuliana M. Bocicor, Giulio Caravagna, Alex Graudenzi, Claudia Cava, Giancarlo Mauri, Marco Antoniotti. Ordering copy number alteration data to analyze colorectal cancer progression. EMBnet.journal, 18 Suppl. B (NETTAB 2012), pages 84-86, 2012.\n",
      "\n",
      "authors:  Iuliana Bocicor, Giulio Caravagna, Alex Graudenzi, Claudia Cava, Giancarlo Mauri, Marco Antoniotti\n",
      "title:  Ordering copy number alteration data to analyze colorectal cancer progression\n",
      "\n",
      "Maria Iuliana Bocicor. A Study on Using Association Rules for Predicting Promoter Sequences. Studia Universitatis “Babes-Bolyai\", Informatica, LVII(2), pages 32-42, 2012.\n",
      "\n",
      "authors:  Maria Iuliana Bocicor\n",
      "title:  A Study on Using Association Rules for Predicting Promoter Sequences\n",
      "\n",
      "Maria Iuliana Bocicor. Experiments on Promoter Sequences Prediction using Association Rules. Lucrările Conferinței Naționale \"Zilele Academice Clujene 2012, Departamentul de Informatică\", Presa Universitară Clujeană, pag. 32 – 35, Cluj Napoca, 30 mai 2012.\n",
      "\n",
      "authors:  Maria Iuliana Bocicor\n",
      "title:  Experiments on Promoter Sequences Prediction using Association Rules\n",
      "\n",
      "Maria Iuliana Bocicor, Gabriela Czibula and Istvan Gergely Czibula. A Distributed Q-Learning Approach to Fragment Assembly. SIC Journal, Studies in Informatics and Control, Vol. 20, Issue 3, pages 221-232, 2011. (ISI)\n",
      "\n",
      "authors:  Maria Iuliana Bocicor, Gabriela Czibula and Istvan Gergely Czibula\n",
      "title:  A Distributed Q-Learning Approach to Fragment Assembly\n",
      "\n",
      "Maria Iuliana Bocicor, Gabriela Czibula and Istvan Gergely Czibula. A Reinforcement Learning Approach for Solving the Fragment Assembly Problem. In Proceedings of the 3th International Symposium on Symbolic and Numeric Algorithms for Scientific Computing (SYNASC '11), pages 191-198, IEEE Computer Society, 2011. (ISI)\n",
      "\n",
      "authors:  Maria Iuliana Bocicor, Gabriela Czibula and Istvan Gergely Czibula\n",
      "title:  A Reinforcement Learning Approach for Solving the Fragment Assembly Problem\n",
      "\n",
      "Gabriela Czibula, Maria Iuliana Bocicor and Istvan Gergely Czibula. A Distributed Reinforcement Learning Approach for Solving Optimization Problems. In Proceedings of the 5th International Conference on Communications and Information Technology (CIT '11) Greece, pages 25-30, 2011.\n",
      "\n",
      "authors:  Gabriela Czibula, Maria Iuliana Bocicor and Istvan Gergely Czibula\n",
      "title:  A Distributed Reinforcement Learning Approach for Solving Optimization Problems\n",
      "\n",
      "Gabriela Czibula, Maria Iuliana Bocicor and Istvan Gergely Czibula. A Reinforcement Learning Model for Solving the Folding Problem. IJCTA – International Journal of Computer Technology and Applications, Vol. 2, Issue 1, pages 171-182, 2011.\n",
      "\n",
      "authors:  Gabriela Czibula, Maria Iuliana Bocicor and Istvan Gergely Czibula\n",
      "title:  A Reinforcement Learning Model for Solving the Folding Problem\n",
      "\n",
      "Gabriela Czibula, Maria Iuliana Bocicor and Istvan Gergely Czibula. An Experiment on Protein Structure Prediction using Reinforcement Learning. Studia Universitatis “Babes-Bolyai\", Informatica, LVI(1), pages 25-34, 2011.\n",
      "\n",
      "authors:  Gabriela Czibula, Maria Iuliana Bocicor and Istvan Gergely Czibula\n",
      "title:  An Experiment on Protein Structure Prediction using Reinforcement Learning\n",
      "\n",
      "Gabriela Czibula, Maria Iuliana Bocicor and Istvan Gergely Czibula. Solving the Protein Folding Problem Using a Distributed Q-Learning Approach. International Journal of Computers, Volume 5, Issue 3, pages 404-413, 2011.\n",
      "\n",
      "authors:  Gabriela Czibula, Maria Iuliana Bocicor and Istvan Gergely Czibula\n",
      "title:  Solving the Protein Folding Problem Using a Distributed Q-Learning Approach\n",
      "\n",
      "Istvan Gergely Czibula, Gabriela Czibula and Maria Iuliana Bocicor. A Software Framework for Solving Combinatorial Optimization Tasks. Studia Universitatis “Babes-Bolyai\", Informatica Special Issue, LVI(3), pages 3-8, 2011.\n",
      "\n",
      "authors:  Istvan Gergely Czibula, Gabriela Czibula and Maria Iuliana Bocicor\n",
      "title:  A Software Framework for Solving Combinatorial Optimization Tasks\n",
      "\n",
      "Istvan Gergely Czibula, Gabriela Czibula and Maria Iuliana Bocicor. A Reinforcement Learning Based Framework for Solving Optimization Problems. In Post proceedings of Knowledge Engineering Principles and Techniques 2011, Presa Universitata Clujeana, 2011, pag. 235 -246. (ISI)\n",
      "\n",
      "authors:  Istvan Gergely Czibula, Gabriela Czibula and Maria Iuliana Bocicor\n",
      "title:  A Reinforcement Learning Based Framework for Solving Optimization Problems\n",
      "\n",
      "Maria Iuliana Bocicor. Modele pentru problema plierii proteinei. Simpozion Național “Interferențe\", Ediția a 2-a, 191-193 (2011).\n",
      "\n",
      "authors:  Maria Iuliana Bocicor\n",
      "title:  Modele pentru problema plierii proteinei\n",
      "\n",
      "Maria Iuliana Bocicor. Bioinformatica si aplicatiile ei. Scoala Maramureseana, 222-223 (2010).\n",
      "\n",
      "authors:  Maria Iuliana Bocicor\n",
      "title:  Bioinformatica si aplicatiile ei\n",
      "\n",
      "Maria Iuliana Bocicor. Algoritmi evolutivi aplicati in chemoterapie. Simpozion Național “Interferențe\", Ediția a 1-a, 145-148 (2010).\n",
      "\n",
      "authors:  Maria Iuliana Bocicor\n",
      "title:  Algoritmi evolutivi aplicati in chemoterapie\n",
      "\n",
      "Alexandru Radovici, Bocicor Maria Iuliana, Stoica Ovidiu. Peer-to-peer messenger-H3llo. 5th RoEduNet IEEE International Conference, Proceedings, 12-16, 2006 (ISI)\n",
      "\n",
      "authors:  Alexandru Radovici, Bocicor Maria Iuliana, Stoica Ovidiu\n",
      "title:  Peer-to-peer messenger-H3llo\n",
      "\n"
     ]
    }
   ],
   "source": [
    "pubs = []\n",
    "# print(soup.find_all('div'))\n",
    "for e in soup.find_all('div'):\n",
    "    if \"class\" in e.attrs:\n",
    "        if e.attrs[\"class\"] == [\"tyJCtd\", \"mGzaTb\", \"baZpAe\"]:\n",
    "            # for every pub entry\n",
    "            for c in e.find_all(\"p\", attrs={\"class\": \"zfr3Q\"}):\n",
    "                if c.text == \"\":\n",
    "                    continue\n",
    "                if \"co-author\" in c.text:\n",
    "                    rval = GetCoAuthorData(c.text)\n",
    "                else:\n",
    "                    features = c.text.split('.')\n",
    "                    if features[0].isdecimal():\n",
    "                        rval = GetPublicationData_Number(c.text)\n",
    "                    else:\n",
    "                        rval = GetPublicationData_A(c.text)\n",
    "                pubs.append(rval)\n",
    "                \n",
    " "
   ]
  },
  {
   "cell_type": "code",
   "execution_count": 146,
   "metadata": {},
   "outputs": [
    {
     "name": "stdout",
     "output_type": "stream",
     "text": [
      "(' Evaluation of Novel Approaches to Software Engineering', '', '2020')\n",
      "('\"Indoor Localization Techniques Within a Home Monitoring Platform\"', 'Authors: Iuliana Marin, Maria Iuliana Bocicor, Arthur-Jozsef Molnar, ', '')\n",
      "(' Evaluation of Novel Approaches to Software Engineering', '', '')\n",
      "('\"Technological Platform for the Prevention and Management of Healthcare Associated Infections and Outbreaks\"', 'Authors: Maria Iuliana Bocicor, Maria Dascalu, Agnieszka Gaczowska, Sorin Hostiuc, Alin Moldoveanu, Antonio Molina, Arthur-Jozsef Molnar, Ionut Negoi, Vlad Racovita. ', '')\n",
      "('Investigating Differences between Ancient and Modern Bacterial DNA in Dental Calculus via Autoencoders', 'Szuhai, Iulia-Monica, Maria Iuliana Bocicor, Emilia-Loredana Pop, Ioan-Gabriel Mircea, and Cristina Mircea', '2019')\n",
      "('Indoor Localisation with Intelligent Luminaires for Home Monitoring', 'Iuliana Marin, Maria-Iuliana Bocicor, Arthur-Jozsef Molnar', '2019')\n",
      "('Using clustering models for uncovering proteins’ structural similarity', 'Mihai Teletin, Gabriela Czibula, and Maria-Iuliana Bocicor', '2019')\n",
      "('Intelligent Decision Support for Pervasive Home Monitoring and Assisted Living', 'Iuliana Bocicor, Arthur-Jozsef Molnar, Iuliana Marin, Nicolae Goga, David Cuesta Frau and Raúl Valor Pérez', '2018')\n",
      "('Deep Autoencoders for Additional Insight into Protein Dynamics', 'Mihai Teletin, Gabriela Czibula, Maria-Iuliana Bocicor, Silvana Albert, Alessandro Pandini', '2018')\n",
      "('i-Light - Intelligent Luminaire Based Platform for Home Monitoring and Assisted Living', 'Iuliana Marin, Andrei Vasilateanu, Arthur-Jozsef Molnar, Maria Iuliana Bocicor, David Cuesta-Frau, Antonio Molina-Pico, Nicolae Goga', '')\n",
      "('Using unsupervised learning methods for enhancing protein structure insight', 'Mihai Teletin, Gabriela Czibula, Silvana Albert, Maria-Iuliana Bocicor', '2018')\n",
      "('Patient autonomy and disclosure of material information about hospital-acquired infections', 'Sorin Hostiuc, Arthur-Jozsef Molnar, Alin Moldoveanu, Maria Aluaş, Florica Moldoveanu, Iuliana Bocicor, Maria-Iuliana Dascalu, Elisabeta Bădilă, Mihaela Hostiuc, Ionut Negoi', '2018')\n",
      "('Cyber-Physical System for Assisted Living and Home Monitoring', 'Maria Iuliana Bocicor, David Cuesta Frau, Ionut-Catalin Draghici, Nicolae Goga, Arthur-Jozsef Molnar, Raúl Valor Pérez, Andrei Vasilateanu', '2017')\n",
      "('A Quantitative Research to Decide the User Requirements for the i-Light System', 'Ionut-Catalin Draghici, Monica Nastasia Mihailescu, Laurentiu Ilie Guta, Andrei Vasilateanu, Ionel-Bujorel Pavaloiu, Iuliana Bocicor, Arthur Molnar, Nicolae Goga', '2017')\n",
      "('Wireless Sensor Network based System for the Prevention of Hospital Acquired Infections', 'Iuliana Bocicor, Maria Dascălu, Agnieszka Gaczowska, Sorin Hostiuc, Alin Moldoveanu, Antonio Molina, Arthur-Jozsef Molnar, Ionuț Negoi and Vlad Racoviță', '2017')\n",
      "('Using Computational Intelligence Models for Additional Insight into Protein Structure', 'Maria Iuliana Bocicor, Alessandro Pandini, Gabriela Czibula, Silvana Albert and Mihai Teletin', '2017')\n",
      "('A Reinforcement Learning Based Approach to Multiple Sequence Alignment', 'Ioan Gabriel Mircea, Maria Iuliana Bocicor, Gabriela Czibula', '2018')\n",
      "('Ordering cancer mutational profiles of cross-sectional copy number alterations', 'Alex Graudenzi, Giulio Caravagna, Iuliana Bocicor, Claudia Cava, Marco Antoniotti, Giancarlo Mauri', '2016')\n",
      "('Preventing Hospital Acquired Infections through a Workflow-based Cyber-physical System', 'Maria Iuliana Bocicor, Arthur-Jozsef Molnar, Cristian Taslitchi', '2016')\n",
      "('Goga, A', 'N', '2016')\n",
      "('Negoi, Beuran, S', 'I', '2016')\n",
      "('A Q-learning Approach for Aligning Protein Sequences', 'Ioan Gabriel Mircea, Gabriela Czibula, Maria Iuliana Bocicor', '2015')\n",
      "('Dynamic clustering of gene expression data using a fuzzy approach', 'Adela Maria Sîrbu, Gabriela Czibula, Maria Iuliana Bocicor', '2014')\n",
      "('Dynamic core based clustering of gene expression data', 'Maria Iuliana Bocicor, Adela Sirbu, Gabriela Czibula', '2014')\n",
      "('On Reinforcement Learning Based Multiple Sequence Alignment', 'Ioan Gabriel Mircea, Maria Iuliana Bocicor, Andra Dîncu', '2014')\n",
      "('Temporal Ordering of Cancer Microarray Data through a Reinforcement Learning Based Approach', 'Gabriela Czibula, Iuliana Bocicor, Istvan-Gergely Czibula', '2013')\n",
      "('A Comparison of Reinforcement Learning based Models for the DNA Fragment Assembly Problem', 'Gabriela Czibula, Istvan Gergely Czibula and Iuliana Bocicor', '2013')\n",
      "('A Dynamic Approach for Hierarchical Clustering of Gene Expression Data', 'Adela Sîrbu and Maria Iuliana Bocicor', '2013')\n",
      "('Platformă educațională care permite programarea dispozitivelor embedded din Cloud – Wyliodrin', 'Alexandru Radovici, Ioana Culic, Iuliana Bocicor, Alexandru Armean, Madalin Ene', '2013')\n",
      "('Promoter Sequences Prediction Using Relational Association Rule Mining', 'Gabriela Czibula, Maria Iuliana Bocicor and Istvan Gergely Czibula', '2012')\n",
      "('A Study on using Reinforcement Learning for Temporal Ordering of Biological Samples', 'Iuliana Bocicor', '2012')\n",
      "('Ordering copy number alteration data to analyze colorectal cancer progression', 'Iuliana Bocicor, Giulio Caravagna, Alex Graudenzi, Claudia Cava, Giancarlo Mauri, Marco Antoniotti', '2012')\n",
      "('A Study on Using Association Rules for Predicting Promoter Sequences', 'Maria Iuliana Bocicor', '2012')\n",
      "('Experiments on Promoter Sequences Prediction using Association Rules', 'Maria Iuliana Bocicor', '2012')\n",
      "('A Distributed Q-Learning Approach to Fragment Assembly', 'Maria Iuliana Bocicor, Gabriela Czibula and Istvan Gergely Czibula', '2011')\n",
      "('A Reinforcement Learning Approach for Solving the Fragment Assembly Problem', 'Maria Iuliana Bocicor, Gabriela Czibula and Istvan Gergely Czibula', '2011')\n",
      "('A Distributed Reinforcement Learning Approach for Solving Optimization Problems', 'Gabriela Czibula, Maria Iuliana Bocicor and Istvan Gergely Czibula', '2011')\n",
      "('A Reinforcement Learning Model for Solving the Folding Problem', 'Gabriela Czibula, Maria Iuliana Bocicor and Istvan Gergely Czibula', '2011')\n",
      "('An Experiment on Protein Structure Prediction using Reinforcement Learning', 'Gabriela Czibula, Maria Iuliana Bocicor and Istvan Gergely Czibula', '2011')\n",
      "('Solving the Protein Folding Problem Using a Distributed Q-Learning Approach', 'Gabriela Czibula, Maria Iuliana Bocicor and Istvan Gergely Czibula', '2011')\n",
      "('A Software Framework for Solving Combinatorial Optimization Tasks', 'Istvan Gergely Czibula, Gabriela Czibula and Maria Iuliana Bocicor', '2011')\n",
      "('A Reinforcement Learning Based Framework for Solving Optimization Problems', 'Istvan Gergely Czibula, Gabriela Czibula and Maria Iuliana Bocicor', '')\n",
      "('Modele pentru problema plierii proteinei', 'Maria Iuliana Bocicor', '')\n",
      "('Bioinformatica si aplicatiile ei', 'Maria Iuliana Bocicor', '')\n",
      "('Algoritmi evolutivi aplicati in chemoterapie', 'Maria Iuliana Bocicor', '')\n",
      "('Peer-to-peer messenger-H3llo', 'Alexandru Radovici, Bocicor Maria Iuliana, Stoica Ovidiu', '')\n"
     ]
    }
   ],
   "source": [
    "for pub in pubs:\n",
    "    print(pub)"
   ]
  },
  {
   "cell_type": "code",
   "execution_count": 140,
   "metadata": {},
   "outputs": [
    {
     "name": "stdout",
     "output_type": "stream",
     "text": [
      "Count:  46\n"
     ]
    }
   ],
   "source": [
    "print(\"Count: \", len(pubs))"
   ]
  },
  {
   "cell_type": "markdown",
   "metadata": {},
   "source": [
    "# DB Storage (TODO)\n",
    "Time to store the entries in the `papers` DB table.\n"
   ]
  },
  {
   "cell_type": "markdown",
   "metadata": {},
   "source": [
    "![Screenshot](Images/PapersTableSpec.PNG)"
   ]
  },
  {
   "cell_type": "code",
   "execution_count": 91,
   "metadata": {},
   "outputs": [],
   "source": [
    "import mariadb\n",
    "import json"
   ]
  },
  {
   "cell_type": "code",
   "execution_count": 92,
   "metadata": {},
   "outputs": [],
   "source": [
    "with open('../credentials.json', 'r') as crd_json_fd:\n",
    "    json_text = crd_json_fd.read()\n",
    "    json_obj = json.loads(json_text)"
   ]
  },
  {
   "cell_type": "code",
   "execution_count": 93,
   "metadata": {},
   "outputs": [],
   "source": [
    "credentials = json_obj[\"Credentials\"]\n",
    "username = credentials[\"username\"]\n",
    "password = credentials[\"password\"]"
   ]
  },
  {
   "cell_type": "code",
   "execution_count": 94,
   "metadata": {},
   "outputs": [],
   "source": [
    "table_name = \"publications_cache\"\n",
    "db_name = \"ubbcluj\""
   ]
  },
  {
   "cell_type": "code",
   "execution_count": 132,
   "metadata": {},
   "outputs": [
    {
     "name": "stdout",
     "output_type": "stream",
     "text": [
      "publications_cache\n"
     ]
    }
   ],
   "source": [
    "print(table_name)"
   ]
  },
  {
   "cell_type": "code",
   "execution_count": 95,
   "metadata": {},
   "outputs": [],
   "source": [
    "mariadb_connection = mariadb.connect(user=username, password=password, database=db_name)\n",
    "mariadb_cursor = mariadb_connection.cursor()"
   ]
  },
  {
   "cell_type": "code",
   "execution_count": 147,
   "metadata": {},
   "outputs": [
    {
     "name": "stdout",
     "output_type": "stream",
     "text": [
      "INSERT INTO publications_cache SET Title='Evaluation of Novel Approaches to Software Engineering', ProfessorId='7', PublicationDate='2020-01-01', Authors='', Affiliations='' \n",
      "INSERT INTO publications_cache SET Title='\"Indoor Localization Techniques Within a Home Monitoring Platform\"', ProfessorId='7', Authors='Authors: Iuliana Marin, Maria Iuliana Bocicor, Arthur-Jozsef Molnar, ', Affiliations='' \n",
      "INSERT INTO publications_cache SET Title='Evaluation of Novel Approaches to Software Engineering', ProfessorId='7', Authors='', Affiliations='' \n",
      "INSERT INTO publications_cache SET Title='\"Technological Platform for the Prevention and Management of Healthcare Associated Infections and Outbreaks\"', ProfessorId='7', Authors='Authors: Maria Iuliana Bocicor, Maria Dascalu, Agnieszka Gaczowska, Sorin Hostiuc, Alin Moldoveanu, Antonio Molina, Arthur-Jozsef Molnar, Ionut Negoi, Vlad Racovita. ', Affiliations='' \n",
      "INSERT INTO publications_cache SET Title='Investigating Differences between Ancient and Modern Bacterial DNA in Dental Calculus via Autoencoders', ProfessorId='7', PublicationDate='2019-01-01', Authors='Szuhai, Iulia-Monica, Maria Iuliana Bocicor, Emilia-Loredana Pop, Ioan-Gabriel Mircea, and Cristina Mircea', Affiliations='' \n",
      "INSERT INTO publications_cache SET Title='Indoor Localisation with Intelligent Luminaires for Home Monitoring', ProfessorId='7', PublicationDate='2019-01-01', Authors='Iuliana Marin, Maria-Iuliana Bocicor, Arthur-Jozsef Molnar', Affiliations='' \n",
      "INSERT INTO publications_cache SET Title='Using clustering models for uncovering proteins’ structural similarity', ProfessorId='7', PublicationDate='2019-01-01', Authors='Mihai Teletin, Gabriela Czibula, and Maria-Iuliana Bocicor', Affiliations='' \n",
      "INSERT INTO publications_cache SET Title='Intelligent Decision Support for Pervasive Home Monitoring and Assisted Living', ProfessorId='7', PublicationDate='2018-01-01', Authors='Iuliana Bocicor, Arthur-Jozsef Molnar, Iuliana Marin, Nicolae Goga, David Cuesta Frau and Raúl Valor Pérez', Affiliations='' \n",
      "INSERT INTO publications_cache SET Title='Deep Autoencoders for Additional Insight into Protein Dynamics', ProfessorId='7', PublicationDate='2018-01-01', Authors='Mihai Teletin, Gabriela Czibula, Maria-Iuliana Bocicor, Silvana Albert, Alessandro Pandini', Affiliations='' \n",
      "INSERT INTO publications_cache SET Title='i-Light - Intelligent Luminaire Based Platform for Home Monitoring and Assisted Living', ProfessorId='7', Authors='Iuliana Marin, Andrei Vasilateanu, Arthur-Jozsef Molnar, Maria Iuliana Bocicor, David Cuesta-Frau, Antonio Molina-Pico, Nicolae Goga', Affiliations='' \n",
      "INSERT INTO publications_cache SET Title='Using unsupervised learning methods for enhancing protein structure insight', ProfessorId='7', PublicationDate='2018-01-01', Authors='Mihai Teletin, Gabriela Czibula, Silvana Albert, Maria-Iuliana Bocicor', Affiliations='' \n",
      "INSERT INTO publications_cache SET Title='Patient autonomy and disclosure of material information about hospital-acquired infections', ProfessorId='7', PublicationDate='2018-01-01', Authors='Sorin Hostiuc, Arthur-Jozsef Molnar, Alin Moldoveanu, Maria Aluaş, Florica Moldoveanu, Iuliana Bocicor, Maria-Iuliana Dascalu, Elisabeta Bădilă, Mihaela Hostiuc, Ionut Negoi', Affiliations='' \n",
      "INSERT INTO publications_cache SET Title='Cyber-Physical System for Assisted Living and Home Monitoring', ProfessorId='7', PublicationDate='2017-01-01', Authors='Maria Iuliana Bocicor, David Cuesta Frau, Ionut-Catalin Draghici, Nicolae Goga, Arthur-Jozsef Molnar, Raúl Valor Pérez, Andrei Vasilateanu', Affiliations='' \n",
      "INSERT INTO publications_cache SET Title='A Quantitative Research to Decide the User Requirements for the i-Light System', ProfessorId='7', PublicationDate='2017-01-01', Authors='Ionut-Catalin Draghici, Monica Nastasia Mihailescu, Laurentiu Ilie Guta, Andrei Vasilateanu, Ionel-Bujorel Pavaloiu, Iuliana Bocicor, Arthur Molnar, Nicolae Goga', Affiliations='' \n",
      "INSERT INTO publications_cache SET Title='Wireless Sensor Network based System for the Prevention of Hospital Acquired Infections', ProfessorId='7', PublicationDate='2017-01-01', Authors='Iuliana Bocicor, Maria Dascălu, Agnieszka Gaczowska, Sorin Hostiuc, Alin Moldoveanu, Antonio Molina, Arthur-Jozsef Molnar, Ionuț Negoi and Vlad Racoviță', Affiliations='' \n",
      "INSERT INTO publications_cache SET Title='Using Computational Intelligence Models for Additional Insight into Protein Structure', ProfessorId='7', PublicationDate='2017-01-01', Authors='Maria Iuliana Bocicor, Alessandro Pandini, Gabriela Czibula, Silvana Albert and Mihai Teletin', Affiliations='' \n",
      "INSERT INTO publications_cache SET Title='A Reinforcement Learning Based Approach to Multiple Sequence Alignment', ProfessorId='7', PublicationDate='2018-01-01', Authors='Ioan Gabriel Mircea, Maria Iuliana Bocicor, Gabriela Czibula', Affiliations='' \n",
      "INSERT INTO publications_cache SET Title='Ordering cancer mutational profiles of cross-sectional copy number alterations', ProfessorId='7', PublicationDate='2016-01-01', Authors='Alex Graudenzi, Giulio Caravagna, Iuliana Bocicor, Claudia Cava, Marco Antoniotti, Giancarlo Mauri', Affiliations='' \n",
      "INSERT INTO publications_cache SET Title='Preventing Hospital Acquired Infections through a Workflow-based Cyber-physical System', ProfessorId='7', PublicationDate='2016-01-01', Authors='Maria Iuliana Bocicor, Arthur-Jozsef Molnar, Cristian Taslitchi', Affiliations='' \n",
      "INSERT INTO publications_cache SET Title='Goga, A', ProfessorId='7', PublicationDate='2016-01-01', Authors='N', Affiliations='' \n",
      "INSERT INTO publications_cache SET Title='Negoi, Beuran, S', ProfessorId='7', PublicationDate='2016-01-01', Authors='I', Affiliations='' \n",
      "INSERT INTO publications_cache SET Title='A Q-learning Approach for Aligning Protein Sequences', ProfessorId='7', PublicationDate='2015-01-01', Authors='Ioan Gabriel Mircea, Gabriela Czibula, Maria Iuliana Bocicor', Affiliations='' \n",
      "INSERT INTO publications_cache SET Title='Dynamic clustering of gene expression data using a fuzzy approach', ProfessorId='7', PublicationDate='2014-01-01', Authors='Adela Maria Sîrbu, Gabriela Czibula, Maria Iuliana Bocicor', Affiliations='' \n",
      "INSERT INTO publications_cache SET Title='Dynamic core based clustering of gene expression data', ProfessorId='7', PublicationDate='2014-01-01', Authors='Maria Iuliana Bocicor, Adela Sirbu, Gabriela Czibula', Affiliations='' \n",
      "INSERT INTO publications_cache SET Title='On Reinforcement Learning Based Multiple Sequence Alignment', ProfessorId='7', PublicationDate='2014-01-01', Authors='Ioan Gabriel Mircea, Maria Iuliana Bocicor, Andra Dîncu', Affiliations='' \n",
      "INSERT INTO publications_cache SET Title='Temporal Ordering of Cancer Microarray Data through a Reinforcement Learning Based Approach', ProfessorId='7', PublicationDate='2013-01-01', Authors='Gabriela Czibula, Iuliana Bocicor, Istvan-Gergely Czibula', Affiliations='' \n",
      "INSERT INTO publications_cache SET Title='A Comparison of Reinforcement Learning based Models for the DNA Fragment Assembly Problem', ProfessorId='7', PublicationDate='2013-01-01', Authors='Gabriela Czibula, Istvan Gergely Czibula and Iuliana Bocicor', Affiliations='' \n",
      "INSERT INTO publications_cache SET Title='A Dynamic Approach for Hierarchical Clustering of Gene Expression Data', ProfessorId='7', PublicationDate='2013-01-01', Authors='Adela Sîrbu and Maria Iuliana Bocicor', Affiliations='' \n",
      "INSERT INTO publications_cache SET Title='Platformă educațională care permite programarea dispozitivelor embedded din Cloud – Wyliodrin', ProfessorId='7', PublicationDate='2013-01-01', Authors='Alexandru Radovici, Ioana Culic, Iuliana Bocicor, Alexandru Armean, Madalin Ene', Affiliations='' \n",
      "INSERT INTO publications_cache SET Title='Promoter Sequences Prediction Using Relational Association Rule Mining', ProfessorId='7', PublicationDate='2012-01-01', Authors='Gabriela Czibula, Maria Iuliana Bocicor and Istvan Gergely Czibula', Affiliations='' \n",
      "INSERT INTO publications_cache SET Title='A Study on using Reinforcement Learning for Temporal Ordering of Biological Samples', ProfessorId='7', PublicationDate='2012-01-01', Authors='Iuliana Bocicor', Affiliations='' \n",
      "INSERT INTO publications_cache SET Title='Ordering copy number alteration data to analyze colorectal cancer progression', ProfessorId='7', PublicationDate='2012-01-01', Authors='Iuliana Bocicor, Giulio Caravagna, Alex Graudenzi, Claudia Cava, Giancarlo Mauri, Marco Antoniotti', Affiliations='' \n",
      "INSERT INTO publications_cache SET Title='A Study on Using Association Rules for Predicting Promoter Sequences', ProfessorId='7', PublicationDate='2012-01-01', Authors='Maria Iuliana Bocicor', Affiliations='' \n",
      "INSERT INTO publications_cache SET Title='Experiments on Promoter Sequences Prediction using Association Rules', ProfessorId='7', PublicationDate='2012-01-01', Authors='Maria Iuliana Bocicor', Affiliations='' \n",
      "INSERT INTO publications_cache SET Title='A Distributed Q-Learning Approach to Fragment Assembly', ProfessorId='7', PublicationDate='2011-01-01', Authors='Maria Iuliana Bocicor, Gabriela Czibula and Istvan Gergely Czibula', Affiliations='' \n",
      "INSERT INTO publications_cache SET Title='A Reinforcement Learning Approach for Solving the Fragment Assembly Problem', ProfessorId='7', PublicationDate='2011-01-01', Authors='Maria Iuliana Bocicor, Gabriela Czibula and Istvan Gergely Czibula', Affiliations='' \n",
      "INSERT INTO publications_cache SET Title='A Distributed Reinforcement Learning Approach for Solving Optimization Problems', ProfessorId='7', PublicationDate='2011-01-01', Authors='Gabriela Czibula, Maria Iuliana Bocicor and Istvan Gergely Czibula', Affiliations='' \n",
      "INSERT INTO publications_cache SET Title='A Reinforcement Learning Model for Solving the Folding Problem', ProfessorId='7', PublicationDate='2011-01-01', Authors='Gabriela Czibula, Maria Iuliana Bocicor and Istvan Gergely Czibula', Affiliations='' \n",
      "INSERT INTO publications_cache SET Title='An Experiment on Protein Structure Prediction using Reinforcement Learning', ProfessorId='7', PublicationDate='2011-01-01', Authors='Gabriela Czibula, Maria Iuliana Bocicor and Istvan Gergely Czibula', Affiliations='' \n",
      "INSERT INTO publications_cache SET Title='Solving the Protein Folding Problem Using a Distributed Q-Learning Approach', ProfessorId='7', PublicationDate='2011-01-01', Authors='Gabriela Czibula, Maria Iuliana Bocicor and Istvan Gergely Czibula', Affiliations='' \n",
      "INSERT INTO publications_cache SET Title='A Software Framework for Solving Combinatorial Optimization Tasks', ProfessorId='7', PublicationDate='2011-01-01', Authors='Istvan Gergely Czibula, Gabriela Czibula and Maria Iuliana Bocicor', Affiliations='' \n",
      "INSERT INTO publications_cache SET Title='A Reinforcement Learning Based Framework for Solving Optimization Problems', ProfessorId='7', Authors='Istvan Gergely Czibula, Gabriela Czibula and Maria Iuliana Bocicor', Affiliations='' \n",
      "INSERT INTO publications_cache SET Title='Modele pentru problema plierii proteinei', ProfessorId='7', Authors='Maria Iuliana Bocicor', Affiliations='' \n",
      "INSERT INTO publications_cache SET Title='Bioinformatica si aplicatiile ei', ProfessorId='7', Authors='Maria Iuliana Bocicor', Affiliations='' \n",
      "INSERT INTO publications_cache SET Title='Algoritmi evolutivi aplicati in chemoterapie', ProfessorId='7', Authors='Maria Iuliana Bocicor', Affiliations='' \n",
      "INSERT INTO publications_cache SET Title='Peer-to-peer messenger-H3llo', ProfessorId='7', Authors='Alexandru Radovici, Bocicor Maria Iuliana, Stoica Ovidiu', Affiliations='' \n"
     ]
    }
   ],
   "source": [
    "for paper in pubs:\n",
    "    \n",
    "    title = \"\"\n",
    "    pub_date = \"\"\n",
    "    authors = \"\"\n",
    "    \n",
    "    try:\n",
    "        pub_date = paper[2].lstrip()\n",
    "        pub_date = str(pub_date) + \"-01-01\"\n",
    "        if len(pub_date) != 10:\n",
    "            pub_date = \"\"\n",
    "    except:\n",
    "        pass\n",
    "    \n",
    "    try:\n",
    "        title = paper[0].lstrip()\n",
    "    except:\n",
    "        pass\n",
    "    \n",
    "    try:\n",
    "        authors = paper[1].lstrip()\n",
    "    except AttributeError:\n",
    "        pass\n",
    "    \n",
    "    \n",
    "    \n",
    "    insert_string = \"INSERT INTO {0} SET \".format(table_name)\n",
    "    insert_string += \"Title=\\'{0}\\', \".format(title)\n",
    "    insert_string += \"ProfessorId=\\'{0}\\', \".format(7)\n",
    "    if pub_date != \"\":\n",
    "        insert_string += \"PublicationDate=\\'{0}\\', \".format(str(pub_date))\n",
    "    insert_string += \"Authors=\\'{0}\\', \".format(authors)\n",
    "    insert_string += \"Affiliations=\\'{0}\\' \".format(\"\")\n",
    "    print(insert_string)\n",
    "    \n",
    "\n",
    "    try:\n",
    "        mariadb_cursor.execute(insert_string)\n",
    "    except mariadb.ProgrammingError as pe:\n",
    "        print(\"Error\")\n",
    "        raise pe\n",
    "    except mariadb.IntegrityError:\n",
    "        continue\n",
    "\n",
    "    "
   ]
  },
  {
   "cell_type": "code",
   "execution_count": 148,
   "metadata": {},
   "outputs": [],
   "source": [
    "mariadb_connection.close()"
   ]
  },
  {
   "cell_type": "markdown",
   "metadata": {},
   "source": [
    "# Conclusion\n",
    "### In the end, the DB only required ~2 manual modifications (deletions) with this code.\n",
    "Out of the 46 papers, 32 were inserted with unique titles."
   ]
  },
  {
   "cell_type": "markdown",
   "metadata": {},
   "source": [
    "![Screenshot](Images/Finished.PNG)"
   ]
  }
 ],
 "metadata": {
  "kernelspec": {
   "display_name": "Python 3",
   "language": "python",
   "name": "python3"
  },
  "language_info": {
   "codemirror_mode": {
    "name": "ipython",
    "version": 3
   },
   "file_extension": ".py",
   "mimetype": "text/x-python",
   "name": "python",
   "nbconvert_exporter": "python",
   "pygments_lexer": "ipython3",
   "version": "3.8.2"
  }
 },
 "nbformat": 4,
 "nbformat_minor": 4
}
